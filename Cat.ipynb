{
 "cells": [
  {
   "cell_type": "markdown",
   "id": "5dbba522",
   "metadata": {},
   "source": [
    "meu primeiro notebook"
   ]
  },
  {
   "cell_type": "code",
   "execution_count": 2,
   "id": "c63f4ab4",
   "metadata": {},
   "outputs": [],
   "source": [
    "class Cat:\n",
    "    num_patas = 4\n",
    "    def __init__(self, name, cor):\n",
    "        self.name = name\n",
    "        self.cor = cor\n",
    "        "
   ]
  },
  {
   "cell_type": "code",
   "execution_count": 4,
   "id": "ad244f59",
   "metadata": {},
   "outputs": [
    {
     "name": "stdout",
     "output_type": "stream",
     "text": [
      "azul\n"
     ]
    }
   ],
   "source": [
    "jonas = Cat(\"Jonas\", \"azul\")\n",
    "print(jonas.cor)"
   ]
  }
 ],
 "metadata": {
  "kernelspec": {
   "display_name": ".venv",
   "language": "python",
   "name": "python3"
  },
  "language_info": {
   "codemirror_mode": {
    "name": "ipython",
    "version": 3
   },
   "file_extension": ".py",
   "mimetype": "text/x-python",
   "name": "python",
   "nbconvert_exporter": "python",
   "pygments_lexer": "ipython3",
   "version": "3.13.3"
  }
 },
 "nbformat": 4,
 "nbformat_minor": 5
}
